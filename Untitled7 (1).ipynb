{
 "cells": [
  {
   "cell_type": "markdown",
   "metadata": {},
   "source": [
    "                           Министерство науки и высшего образования Российской Федерации \n",
    "                          Санкт-Петербургский политехнический университет Петра Великого \n",
    "                               Высшая школа киберфизических систем и управления\n",
    "\n",
    "\n",
    "\n",
    "\n",
    "\n",
    "\n",
    "\n",
    "\n",
    "\n",
    "                                          ОТЧЁТ ПО ПРАКТИЧЕСКОЙ РАБОТЕ\n",
    "\n",
    "\n",
    "\n",
    "\n",
    "                              Направление: 09.03.02 – Информационные системы и технологии \n",
    "                              Профиль 09.03.02_02 «Информационные системы и технологии»\n",
    "\n",
    "\n",
    "\n",
    "               Выполнил студент гр з3530902/90002\t                                        А.В. Степанов   \n"
   ]
  }
 ],
 "metadata": {
  "kernelspec": {
   "display_name": "Python 3",
   "language": "python",
   "name": "python3"
  },
  "language_info": {
   "codemirror_mode": {
    "name": "ipython",
    "version": 3
   },
   "file_extension": ".py",
   "mimetype": "text/x-python",
   "name": "python",
   "nbconvert_exporter": "python",
   "pygments_lexer": "ipython3",
   "version": "3.7.6"
  }
 },
 "nbformat": 4,
 "nbformat_minor": 4
}
